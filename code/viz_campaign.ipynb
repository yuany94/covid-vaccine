{
 "cells": [
  {
   "cell_type": "code",
   "execution_count": 1,
   "id": "refined-favor",
   "metadata": {
    "tags": []
   },
   "outputs": [],
   "source": [
    "import numpy as np\n",
    "import copy \n",
    "import pickle\n",
    "import matplotlib.pyplot as plt"
   ]
  },
  {
   "cell_type": "code",
   "execution_count": 2,
   "id": "unknown-mattress",
   "metadata": {},
   "outputs": [],
   "source": [
    "dict_param = np.load('../data/dict_param_all_12.npy', allow_pickle=True).item()\n",
    "bipartite = dict_param['poi_cbg_visits_list'][0]\n",
    "unvax = dict_param['unvax']\n",
    "bipartite = np.load('../data/bipartite_weight_12.npy', allow_pickle=True).item()\n",
    "bipartite_normed_product = np.load('../results/centrality_files/bipartite_normed_product_all_12.npy', allow_pickle=True)\n",
    "centrality_scores_array = np.array(bipartite_normed_product)"
   ]
  },
  {
   "cell_type": "code",
   "execution_count": 4,
   "id": "minor-yeast",
   "metadata": {},
   "outputs": [],
   "source": [
    "data = np.load('../data/campaign.npz')\n"
   ]
  },
  {
   "cell_type": "code",
   "execution_count": 5,
   "id": "extensive-bahrain",
   "metadata": {},
   "outputs": [
    {
     "data": {
      "text/plain": [
       "(array([1.86664e+05, 8.76000e+02, 8.27000e+02, 8.15000e+02, 7.74000e+02,\n",
       "        7.10000e+02, 6.79000e+02, 6.65000e+02, 6.33000e+02, 5.74000e+02,\n",
       "        5.78000e+02, 5.41000e+02, 5.15000e+02, 5.10000e+02, 4.96000e+02,\n",
       "        4.81000e+02, 4.36000e+02, 4.40000e+02, 3.69000e+02, 3.67000e+02,\n",
       "        3.48000e+02, 3.64000e+02, 3.75000e+02, 3.81000e+02, 3.51000e+02,\n",
       "        3.20000e+02, 3.55000e+02, 3.00000e+02, 2.96000e+02, 2.76000e+02,\n",
       "        2.76000e+02, 2.31000e+02, 2.70000e+02, 2.21000e+02, 2.58000e+02,\n",
       "        2.51000e+02, 2.31000e+02, 2.28000e+02, 2.32000e+02, 2.09000e+02,\n",
       "        2.16000e+02, 2.03000e+02, 1.89000e+02, 2.00000e+02, 2.11000e+02,\n",
       "        1.64000e+02, 1.81000e+02, 1.93000e+02, 2.04000e+02, 9.21300e+03]),\n",
       " array([-4.24460972e-05,  1.95840196e-03,  3.95925001e-03,  5.96009807e-03,\n",
       "         7.96094612e-03,  9.96179418e-03,  1.19626422e-02,  1.39634903e-02,\n",
       "         1.59643383e-02,  1.79651864e-02,  1.99660345e-02,  2.19668825e-02,\n",
       "         2.39677306e-02,  2.59685786e-02,  2.79694267e-02,  2.99702747e-02,\n",
       "         3.19711228e-02,  3.39719708e-02,  3.59728189e-02,  3.79736669e-02,\n",
       "         3.99745150e-02,  4.19753631e-02,  4.39762111e-02,  4.59770592e-02,\n",
       "         4.79779072e-02,  4.99787553e-02,  5.19796033e-02,  5.39804514e-02,\n",
       "         5.59812994e-02,  5.79821475e-02,  5.99829955e-02,  6.19838436e-02,\n",
       "         6.39846917e-02,  6.59855397e-02,  6.79863878e-02,  6.99872358e-02,\n",
       "         7.19880839e-02,  7.39889319e-02,  7.59897800e-02,  7.79906280e-02,\n",
       "         7.99914761e-02,  8.19923241e-02,  8.39931722e-02,  8.59940203e-02,\n",
       "         8.79948683e-02,  8.99957164e-02,  9.19965644e-02,  9.39974125e-02,\n",
       "         9.59982605e-02,  9.79991086e-02,  9.99999566e-02]),\n",
       " <BarContainer object of 50 artists>)"
      ]
     },
     "execution_count": 5,
     "metadata": {},
     "output_type": "execute_result"
    },
    {
     "data": {
      "image/png": "[encoded data removed]",
      "text/plain": [
       "<Figure size 432x288 with 1 Axes>"
      ]
     },
     "metadata": {
      "needs_background": "light"
     },
     "output_type": "display_data"
    }
   ],
   "source": [
    "v = copy.deepcopy(data['v'])\n",
    "v = - v\n",
    "plt.hist(v, bins=50)"
   ]
  },
  {
   "cell_type": "markdown",
   "id": "white-lease",
   "metadata": {},
   "source": [
    "## This figure shows that most targeted CBGs are suggested to increase vax rates by 10%"
   ]
  },
  {
   "cell_type": "code",
   "execution_count": 6,
   "id": "known-member",
   "metadata": {},
   "outputs": [],
   "source": [
    "v = unvax - np.maximum(unvax - v, 0)"
   ]
  },
  {
   "cell_type": "code",
   "execution_count": 7,
   "id": "royal-courage",
   "metadata": {},
   "outputs": [],
   "source": [
    "cbgs_to_idxs = dict_param['cbgs_to_idxs'] \n",
    "cbgs = [cbg for cbg in cbgs_to_idxs]"
   ]
  },
  {
   "cell_type": "code",
   "execution_count": 8,
   "id": "important-toyota",
   "metadata": {},
   "outputs": [],
   "source": [
    "cbg_sizes = dict_param['cbg_sizes']"
   ]
  },
  {
   "cell_type": "markdown",
   "id": "stuffed-secret",
   "metadata": {},
   "source": [
    "## we use binary search to find the best matches (based on the number of encouraged people) for the optimal strategy"
   ]
  },
  {
   "cell_type": "code",
   "execution_count": 9,
   "id": "plastic-latin",
   "metadata": {},
   "outputs": [],
   "source": [
    "def idx_vector_to_decisions(idx):\n",
    "    cbg_vector = np.zeros(len(cbgs))\n",
    "    cbg_vector[idx] = 0.1\n",
    "    cbg_vector = unvax - np.maximum(unvax - cbg_vector, 0)\n",
    "    return cbg_vector\n",
    "\n",
    "def cbg_vector_num_people(cbg_vector):\n",
    "    return np.dot(cbg_vector, cbg_sizes)\n",
    "\n",
    "def estimation_case(cbg_vector):\n",
    "    return ((unvax - cbg_vector) @ bipartite.T) @ (bipartite @ (unvax - cbg_vector))"
   ]
  },
  {
   "cell_type": "code",
   "execution_count": 10,
   "id": "indian-detector",
   "metadata": {},
   "outputs": [],
   "source": [
    "def binary_division(target_cbg_number, vector_to_rank):\n",
    "#     print(vector_to_rank)\n",
    "    max_feasible = np.ones(len(vector_to_rank)) * 0.1 \n",
    "    max_feasible = unvax - np.maximum(0, unvax - max_feasible)\n",
    "    right = 100\n",
    "    left = 0\n",
    "    mid = (right + left) / 2\n",
    "    T = 0\n",
    "    while np.abs(np.dot(cbg_sizes[vector_to_rank > np.percentile(vector_to_rank, mid)], max_feasible[vector_to_rank > np.percentile(vector_to_rank, mid)]).sum() - target_cbg_number) > 1000 and T < 100:\n",
    "        if np.dot(cbg_sizes[vector_to_rank > np.percentile(vector_to_rank, mid)], max_feasible[vector_to_rank > np.percentile(vector_to_rank, mid)]).sum() - target_cbg_number > 0:\n",
    "            left = mid\n",
    "        else:\n",
    "            right = mid\n",
    "        mid = (left + right) / 2\n",
    "        T += 1\n",
    "    \n",
    "    return vector_to_rank > np.percentile(vector_to_rank, mid), max_feasible * (vector_to_rank > np.percentile(vector_to_rank, mid))"
   ]
  },
  {
   "cell_type": "code",
   "execution_count": 11,
   "id": "chemical-bundle",
   "metadata": {},
   "outputs": [
    {
     "data": {
      "text/plain": [
       "(3155047.59, 106887549.57609421)"
      ]
     },
     "execution_count": 11,
     "metadata": {},
     "output_type": "execute_result"
    }
   ],
   "source": [
    "cbg_vector_num_people(v), estimation_case(v)"
   ]
  },
  {
   "cell_type": "code",
   "execution_count": 12,
   "id": "later-optimum",
   "metadata": {},
   "outputs": [
    {
     "name": "stdout",
     "output_type": "stream",
     "text": [
      "3155047.59\n"
     ]
    }
   ],
   "source": [
    "target = cbg_vector_num_people(v)\n",
    "print(target)\n",
    "target_lowest_vaccination, target_lowest_vaccination_increase = binary_division(target, unvax)"
   ]
  },
  {
   "cell_type": "code",
   "execution_count": 13,
   "id": "swiss-technique",
   "metadata": {},
   "outputs": [
    {
     "name": "stdout",
     "output_type": "stream",
     "text": [
      "3155047.59\n"
     ]
    }
   ],
   "source": [
    "target = cbg_vector_num_people(v)\n",
    "print(target)\n",
    "target_highest_centrality, target_highest_centrality_increase = binary_division(target, centrality_scores_array)"
   ]
  },
  {
   "cell_type": "code",
   "execution_count": 14,
   "id": "micro-hebrew",
   "metadata": {},
   "outputs": [
    {
     "name": "stdout",
     "output_type": "stream",
     "text": [
      "3155047.59\n"
     ]
    }
   ],
   "source": [
    "target = cbg_vector_num_people(v)\n",
    "print(target)\n",
    "target_random, target_random_increase = binary_division(target, np.random.random(len(v)))"
   ]
  },
  {
   "cell_type": "code",
   "execution_count": 15,
   "id": "patent-wisdom",
   "metadata": {},
   "outputs": [
    {
     "name": "stdout",
     "output_type": "stream",
     "text": [
      "106887549.57609421 3155047.59\n",
      "108531693.60381004 3154595.7467189496\n",
      "116190102.16543004 3154689.2999999993\n",
      "116249398.88881412 3155805.3954117396\n"
     ]
    }
   ],
   "source": [
    "for delta in [v, target_highest_centrality_increase, target_lowest_vaccination_increase, target_random_increase]:\n",
    "    print(estimation_case(delta), np.dot(cbg_sizes, delta))"
   ]
  },
  {
   "cell_type": "code",
   "execution_count": 16,
   "id": "subject-count",
   "metadata": {},
   "outputs": [
    {
     "name": "stdout",
     "output_type": "stream",
     "text": [
      "106887549.57609421 3155047.59\n",
      "108531693.60381004 3154595.7467189496\n",
      "116190102.16543004 3154689.2999999993\n",
      "116249398.88881412 3155805.3954117396\n"
     ]
    }
   ],
   "source": [
    "for delta in [v, target_highest_centrality_increase, target_lowest_vaccination_increase, target_random_increase]:\n",
    "    print(estimation_case(delta), np.dot(cbg_sizes, delta))"
   ]
  },
  {
   "cell_type": "code",
   "execution_count": 19,
   "id": "interested-panel",
   "metadata": {},
   "outputs": [],
   "source": [
    "np.save('../results/campaign/v.npy', v)\n",
    "np.save('../results/campaign/target_highest_centrality_increase.npy', target_highest_centrality_increase)\n",
    "np.save('../results/campaign/target_lowest_vaccination_increase.npy', target_lowest_vaccination_increase)\n",
    "np.save('../results/campaign/target_random_increase.npy', target_random_increase)"
   ]
  },
  {
   "cell_type": "markdown",
   "id": "choice-replication",
   "metadata": {},
   "source": [
    "# plot the results"
   ]
  },
  {
   "cell_type": "code",
   "execution_count": null,
   "id": "collective-sending",
   "metadata": {},
   "outputs": [],
   "source": [
    "!python US_simulation-track-12-given_distribution.py  --vc=-1 --num_hours=720 --p_sick_at_t0=0.001 --poi_psi=120000000.0  --home_beta=0.005 --state=all --enable=0 --distribution=original --intervene=1\n",
    "!python US_simulation-track-12-given_distribution.py  --vc=-1 --num_hours=720 --p_sick_at_t0=0.001 --poi_psi=120000000.0  --home_beta=0.005 --state=all --enable=0 --distribution=original --intervene=2\n",
    "!python US_simulation-track-12-given_distribution.py  --vc=-1 --num_hours=720 --p_sick_at_t0=0.001 --poi_psi=120000000.0  --home_beta=0.005 --state=all --enable=0 --distribution=original --intervene=3\n",
    "!python US_simulation-track-12-given_distribution.py  --vc=-1 --num_hours=720 --p_sick_at_t0=0.001 --poi_psi=120000000.0  --home_beta=0.005 --state=all --enable=0 --distribution=original --intervene=4\n",
    "!python US_simulation-track-12-given_distribution.py  --vc=-1 --num_hours=720 --p_sick_at_t0=0.001 --poi_psi=120000000.0  --home_beta=0.005 --state=all --enable=0 --distribution=original --intervene=5"
   ]
  },
  {
   "cell_type": "code",
   "execution_count": 1,
   "id": "civic-fever",
   "metadata": {},
   "outputs": [],
   "source": [
    "import numpy as np\n",
    "\n",
    "res = {}\n",
    "res['original'] = np.load('../results/results_12_ind_all_slow_plus_720_1.npy', allow_pickle=True).item()\n",
    "res['original'] = res['original'][(-1.0, 0.001, 0.005, 120000000.0, 720, False)]['original'].history\n",
    "S = res['original']['all']['new_cases'][:, :].sum(axis=1)\n",
    "S = S.mean()"
   ]
  },
  {
   "cell_type": "code",
   "execution_count": 3,
   "id": "distinct-aside",
   "metadata": {},
   "outputs": [],
   "source": [
    "for key in np.load('../results/results_all_original_720_intervene_1_120000000_0.47.npy', allow_pickle=True).item():\n",
    "    break\n",
    "\n",
    "res['proposed'] = np.load('../results/results_all_original_720_intervene_1_120000000_0.47.npy', allow_pickle=True).item()[key]['original']\n",
    "res['centrality'] = np.load('../results/results_all_original_720_intervene_2_120000000_0.47.npy', allow_pickle=True).item()[key]['original']\n",
    "res['lowest'] = np.load('../results/results_all_original_720_intervene_3_120000000_0.47.npy', allow_pickle=True).item()[key]['original']\n",
    "res['random'] = np.load('../results/results_all_original_720_intervene_4_120000000_0.47.npy', allow_pickle=True).item()[key]['original']\n",
    "res['untarget'] = np.load('../results/results_all_original_720_intervene_5_120000000_0.47.npy', allow_pickle=True).item()[key]['original']"
   ]
  },
  {
   "cell_type": "code",
   "execution_count": 5,
   "id": "excess-pittsburgh",
   "metadata": {},
   "outputs": [
    {
     "name": "stdout",
     "output_type": "stream",
     "text": [
      "0.050102642730595726 0.04914813604473378 0.07494407950056714 0.16678783952650544 0.19706374916164704\n"
     ]
    },
    {
     "data": {
      "image/png": "[encoded data removed]",
      "text/plain": [
       "<Figure size 864x864 with 1 Axes>"
      ]
     },
     "metadata": {
      "needs_background": "light"
     },
     "output_type": "display_data"
    }
   ],
   "source": [
    "import seaborn as sns\n",
    "import matplotlib.pyplot as plt\n",
    "\n",
    "plt.figure(figsize=(12, 12))\n",
    "\n",
    "sns.set_context('poster', font_scale=1.5)\n",
    "sns.set_palette(['#95a5a6', '#34495e', '#3498db', '#9b59b6', '#e74c3c'])\n",
    "\n",
    "plt.bar([0], \n",
    "             [1-(res['untarget']['all']['new_cases'][:, :].sum(axis=1) / S).mean()],\n",
    "             yerr=[(res['untarget']['all']['new_cases'][:, :].sum(axis=1) / S).std()],\n",
    "            )\n",
    "\n",
    "plt.bar([1], \n",
    "             [1-(res['random']['all']['new_cases'].sum(axis=1) / S).mean()],\n",
    "             yerr=[(res['random']['all']['new_cases'].sum(axis=1) / S).std()],\n",
    "            )\n",
    "\n",
    "\n",
    "plt.bar([2], \n",
    "             [1-(res['lowest']['all']['new_cases'].sum(axis=1) / S).mean()],\n",
    "             yerr=[(res['lowest']['all']['new_cases'].sum(axis=1) / S).std()],\n",
    "            )\n",
    "\n",
    "plt.bar([3], \n",
    "             [1-(res['centrality']['all']['new_cases'].sum(axis=1) / S).mean()],\n",
    "             yerr=[(res['centrality']['all']['new_cases'].sum(axis=1) / S).std()],\n",
    "            )\n",
    "\n",
    "\n",
    "plt.bar([4], \n",
    "             [(1-res['proposed']['all']['new_cases'].sum(axis=1) / S).mean()],\n",
    "             yerr=[(res['proposed']['all']['new_cases'].sum(axis=1) / S).std()],\n",
    "            )\n",
    "\n",
    "print(1-(res['untarget']['all']['new_cases'].sum(axis=1) / S).mean(),\n",
    "      1-(res['random']['all']['new_cases'].sum(axis=1) / S).mean(),\n",
    "      1-(res['lowest']['all']['new_cases'].sum(axis=1) / S).mean(),\n",
    "      1-(res['centrality']['all']['new_cases'].sum(axis=1) / S).mean(),\n",
    "      1-(res['proposed']['all']['new_cases'].sum(axis=1) / S).mean()\n",
    "     )\n",
    "\n",
    "sns.despine()\n",
    "\n",
    "plt.xticks([0,1,2,3,4], ['untargeted', 'random', 'least vaccinated', 'most central', 'proposed'], rotation=30, fontsize=25)\n",
    "# plt.axhline(1.0, linestyle='--', color='#bdc3c7')\n",
    "plt.yticks([0, 0.025, 0.05, 0.075, 0.1, \n",
    "            0.125, 0.150, 0.175, 0.2],\n",
    "           [\n",
    "               '0.0%', '2.5%', '5.0%', '7.5%',\n",
    "               '10.0%', '12.5%', '15.0%', '17.5%', '20.0%']\n",
    "          )\n",
    "\n",
    "plt.ylabel('% reduction in case number')\n",
    "plt.tight_layout()\n",
    "plt.ylim((0, None))\n",
    "plt.savefig('../results/target_720.pdf')"
   ]
  },
  {
   "cell_type": "code",
   "execution_count": null,
   "id": "stupid-vermont",
   "metadata": {},
   "outputs": [],
   "source": []
  }
 ],
 "metadata": {
  "kernelspec": {
   "display_name": "Python 3",
   "language": "python",
   "name": "python3"
  },
  "language_info": {
   "codemirror_mode": {
    "name": "ipython",
    "version": 3
   },
   "file_extension": ".py",
   "mimetype": "text/x-python",
   "name": "python",
   "nbconvert_exporter": "python",
   "pygments_lexer": "ipython3",
   "version": "3.8.3"
  }
 },
 "nbformat": 4,
 "nbformat_minor": 5
}
