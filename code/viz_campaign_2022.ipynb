{
 "cells": [
  {
   "cell_type": "code",
   "execution_count": 1,
   "id": "fiscal-amazon",
   "metadata": {
    "tags": []
   },
   "outputs": [],
   "source": [
    "import numpy as np\n",
    "import copy \n",
    "import pickle\n",
    "import matplotlib.pyplot as plt\n",
    "import pandas as pd"
   ]
  },
  {
   "cell_type": "code",
   "execution_count": 2,
   "id": "molecular-renewal",
   "metadata": {},
   "outputs": [],
   "source": [
    "dict_param = np.load('../data/dict_param_all_12.npy', allow_pickle=True).item()\n",
    "bipartite = dict_param['poi_cbg_visits_list'][0]\n",
    "unvax = dict_param['unvax']\n",
    "\n",
    "vax_2022 = pd.read_csv('../data/vac_inferred_lvm_20229.csv')\n",
    "unvax = np.zeros_like(dict_param['unvax'])\n",
    "\n",
    "for i, row in vax_2022.iterrows():\n",
    "    census_block_group = int(row['census_block_group'])\n",
    "    vac_rate_inferred = row['vac_rate_inferred']\n",
    "    if census_block_group in dict_param['cbgs_to_idxs']:\n",
    "        unvax[dict_param['cbgs_to_idxs'][census_block_group]] = 1 - vac_rate_inferred / 100\n",
    "\n",
    "\n",
    "bipartite = np.load('../data/bipartite_weight_12.npy', allow_pickle=True).item()\n",
    "bipartite_normed_product = np.load('../results/centrality_files/bipartite_normed_product_all_12.npy', allow_pickle=True)\n",
    "centrality_scores_array = np.array(bipartite_normed_product)"
   ]
  },
  {
   "cell_type": "code",
   "execution_count": 3,
   "id": "rubber-tuning",
   "metadata": {},
   "outputs": [],
   "source": [
    "data = np.load('../data/campaign_2022.npz')\n"
   ]
  },
  {
   "cell_type": "code",
   "execution_count": 4,
   "id": "greek-auction",
   "metadata": {},
   "outputs": [
    {
     "data": {
      "text/plain": [
       "(array([1.86626e+05, 8.91000e+02, 8.43000e+02, 8.12000e+02, 7.35000e+02,\n",
       "        7.45000e+02, 7.09000e+02, 6.48000e+02, 6.59000e+02, 6.69000e+02,\n",
       "        5.98000e+02, 5.35000e+02, 5.44000e+02, 5.18000e+02, 4.75000e+02,\n",
       "        4.62000e+02, 4.62000e+02, 4.07000e+02, 3.57000e+02, 4.21000e+02,\n",
       "        3.83000e+02, 3.80000e+02, 3.62000e+02, 3.64000e+02, 3.30000e+02,\n",
       "        2.80000e+02, 3.15000e+02, 3.01000e+02, 3.07000e+02, 2.67000e+02,\n",
       "        3.09000e+02, 2.97000e+02, 2.64000e+02, 2.59000e+02, 2.48000e+02,\n",
       "        2.22000e+02, 2.43000e+02, 2.30000e+02, 2.30000e+02, 1.93000e+02,\n",
       "        1.91000e+02, 1.94000e+02, 1.93000e+02, 1.95000e+02, 2.00000e+02,\n",
       "        1.59000e+02, 1.77000e+02, 1.80000e+02, 1.92000e+02, 9.11600e+03]),\n",
       " array([-4.22908300e-05,  1.95855412e-03,  3.95939908e-03,  5.96024403e-03,\n",
       "         7.96108898e-03,  9.96193393e-03,  1.19627789e-02,  1.39636238e-02,\n",
       "         1.59644688e-02,  1.79653137e-02,  1.99661587e-02,  2.19670036e-02,\n",
       "         2.39678486e-02,  2.59686936e-02,  2.79695385e-02,  2.99703835e-02,\n",
       "         3.19712284e-02,  3.39720734e-02,  3.59729183e-02,  3.79737633e-02,\n",
       "         3.99746082e-02,  4.19754532e-02,  4.39762981e-02,  4.59771431e-02,\n",
       "         4.79779880e-02,  4.99788330e-02,  5.19796779e-02,  5.39805229e-02,\n",
       "         5.59813678e-02,  5.79822128e-02,  5.99830577e-02,  6.19839027e-02,\n",
       "         6.39847477e-02,  6.59855926e-02,  6.79864376e-02,  6.99872825e-02,\n",
       "         7.19881275e-02,  7.39889724e-02,  7.59898174e-02,  7.79906623e-02,\n",
       "         7.99915073e-02,  8.19923522e-02,  8.39931972e-02,  8.59940421e-02,\n",
       "         8.79948871e-02,  8.99957320e-02,  9.19965770e-02,  9.39974219e-02,\n",
       "         9.59982669e-02,  9.79991118e-02,  9.99999568e-02]),\n",
       " <BarContainer object of 50 artists>)"
      ]
     },
     "execution_count": 4,
     "metadata": {},
     "output_type": "execute_result"
    },
    {
     "data": {
      "image/png": "[encoded data removed]",
      "text/plain": [
       "<Figure size 432x288 with 1 Axes>"
      ]
     },
     "metadata": {
      "needs_background": "light"
     },
     "output_type": "display_data"
    }
   ],
   "source": [
    "v = copy.deepcopy(data['v'])\n",
    "v = - v\n",
    "plt.hist(v, bins=50)"
   ]
  },
  {
   "cell_type": "markdown",
   "id": "interpreted-comparison",
   "metadata": {},
   "source": [
    "## This figure shows that most targeted CBGs are suggested to increase vax rates by 10%"
   ]
  },
  {
   "cell_type": "code",
   "execution_count": 5,
   "id": "related-nylon",
   "metadata": {},
   "outputs": [],
   "source": [
    "v = unvax - np.maximum(unvax - v, 0)"
   ]
  },
  {
   "cell_type": "code",
   "execution_count": 6,
   "id": "reduced-iceland",
   "metadata": {},
   "outputs": [],
   "source": [
    "cbgs_to_idxs = dict_param['cbgs_to_idxs'] \n",
    "cbgs = [cbg for cbg in cbgs_to_idxs]"
   ]
  },
  {
   "cell_type": "code",
   "execution_count": 7,
   "id": "capital-decade",
   "metadata": {},
   "outputs": [],
   "source": [
    "cbg_sizes = dict_param['cbg_sizes']"
   ]
  },
  {
   "cell_type": "markdown",
   "id": "headed-enough",
   "metadata": {},
   "source": [
    "## we use binary search to find the best matches (based on the number of encouraged people) for the optimal strategy"
   ]
  },
  {
   "cell_type": "code",
   "execution_count": 8,
   "id": "everyday-running",
   "metadata": {},
   "outputs": [],
   "source": [
    "def idx_vector_to_decisions(idx):\n",
    "    cbg_vector = np.zeros(len(cbgs))\n",
    "    cbg_vector[idx] = 0.1\n",
    "    cbg_vector = unvax - np.maximum(unvax - cbg_vector, 0)\n",
    "    return cbg_vector\n",
    "\n",
    "def cbg_vector_num_people(cbg_vector):\n",
    "    return np.dot(cbg_vector, cbg_sizes)\n",
    "\n",
    "def estimation_case(cbg_vector):\n",
    "    return ((unvax - cbg_vector) @ bipartite.T) @ (bipartite @ (unvax - cbg_vector))"
   ]
  },
  {
   "cell_type": "code",
   "execution_count": 9,
   "id": "color-section",
   "metadata": {},
   "outputs": [],
   "source": [
    "def binary_division(target_cbg_number, vector_to_rank):\n",
    "#     print(vector_to_rank)\n",
    "    max_feasible = np.ones(len(vector_to_rank)) * 0.1 \n",
    "    max_feasible = unvax - np.maximum(0, unvax - max_feasible)\n",
    "    right = 100\n",
    "    left = 0\n",
    "    mid = (right + left) / 2\n",
    "    T = 0\n",
    "    while np.abs(np.dot(cbg_sizes[vector_to_rank > np.percentile(vector_to_rank, mid)], max_feasible[vector_to_rank > np.percentile(vector_to_rank, mid)]).sum() - target_cbg_number) > 1000 and T < 100:\n",
    "        if np.dot(cbg_sizes[vector_to_rank > np.percentile(vector_to_rank, mid)], max_feasible[vector_to_rank > np.percentile(vector_to_rank, mid)]).sum() - target_cbg_number > 0:\n",
    "            left = mid\n",
    "        else:\n",
    "            right = mid\n",
    "        mid = (left + right) / 2\n",
    "        T += 1\n",
    "    \n",
    "    return vector_to_rank > np.percentile(vector_to_rank, mid), max_feasible * (vector_to_rank > np.percentile(vector_to_rank, mid))"
   ]
  },
  {
   "cell_type": "code",
   "execution_count": 10,
   "id": "behavioral-council",
   "metadata": {},
   "outputs": [
    {
     "data": {
      "text/plain": [
       "(3155047.5899999994, 47372032.937062114)"
      ]
     },
     "execution_count": 10,
     "metadata": {},
     "output_type": "execute_result"
    }
   ],
   "source": [
    "cbg_vector_num_people(v), estimation_case(v)"
   ]
  },
  {
   "cell_type": "code",
   "execution_count": 11,
   "id": "small-voltage",
   "metadata": {},
   "outputs": [
    {
     "name": "stdout",
     "output_type": "stream",
     "text": [
      "3155047.5899999994\n"
     ]
    }
   ],
   "source": [
    "target = cbg_vector_num_people(v)\n",
    "print(target)\n",
    "target_lowest_vaccination, target_lowest_vaccination_increase = binary_division(target, unvax)"
   ]
  },
  {
   "cell_type": "code",
   "execution_count": 12,
   "id": "greenhouse-horse",
   "metadata": {},
   "outputs": [
    {
     "name": "stdout",
     "output_type": "stream",
     "text": [
      "3155047.5899999994\n"
     ]
    }
   ],
   "source": [
    "target = cbg_vector_num_people(v)\n",
    "print(target)\n",
    "target_highest_centrality, target_highest_centrality_increase = binary_division(target, centrality_scores_array)"
   ]
  },
  {
   "cell_type": "code",
   "execution_count": 13,
   "id": "vanilla-index",
   "metadata": {},
   "outputs": [
    {
     "name": "stdout",
     "output_type": "stream",
     "text": [
      "3155047.5899999994\n"
     ]
    }
   ],
   "source": [
    "target = cbg_vector_num_people(v)\n",
    "print(target)\n",
    "target_random, target_random_increase = binary_division(target, np.random.random(len(v)))"
   ]
  },
  {
   "cell_type": "code",
   "execution_count": 14,
   "id": "primary-english",
   "metadata": {},
   "outputs": [
    {
     "name": "stdout",
     "output_type": "stream",
     "text": [
      "47372032.937062114 3155047.5899999994\n",
      "48542327.48400745 3155208.9259606004\n",
      "53263985.58605567 3155379.3999999994\n",
      "53474042.174021706 3155083.8133294904\n"
     ]
    }
   ],
   "source": [
    "for delta in [v, target_highest_centrality_increase, target_lowest_vaccination_increase, target_random_increase]:\n",
    "    print(estimation_case(delta), np.dot(cbg_sizes, delta))"
   ]
  },
  {
   "cell_type": "code",
   "execution_count": 16,
   "id": "plain-trader",
   "metadata": {},
   "outputs": [],
   "source": [
    "np.save('../results/campaign/v_2022.npy', v)\n",
    "np.save('../results/campaign/target_highest_centrality_increase_2022.npy', target_highest_centrality_increase)\n",
    "np.save('../results/campaign/target_lowest_vaccination_increase_2022.npy', target_lowest_vaccination_increase)\n",
    "np.save('../results/campaign/target_random_increase_2022.npy', target_random_increase)"
   ]
  },
  {
   "cell_type": "markdown",
   "id": "excessive-length",
   "metadata": {},
   "source": [
    "# plot the results"
   ]
  },
  {
   "cell_type": "code",
   "execution_count": null,
   "id": "celtic-firmware",
   "metadata": {},
   "outputs": [],
   "source": [
    "!python US_simulation-track-12-given_distribution.py  --vc=-1 --num_hours=720 --p_sick_at_t0=0.001 --poi_psi=120000000.0  --home_beta=0.005 --state=all --enable=0 --distribution=original --intervene=1\n",
    "!python US_simulation-track-12-given_distribution.py  --vc=-1 --num_hours=720 --p_sick_at_t0=0.001 --poi_psi=120000000.0  --home_beta=0.005 --state=all --enable=0 --distribution=original --intervene=2\n",
    "!python US_simulation-track-12-given_distribution.py  --vc=-1 --num_hours=720 --p_sick_at_t0=0.001 --poi_psi=120000000.0  --home_beta=0.005 --state=all --enable=0 --distribution=original --intervene=3\n",
    "!python US_simulation-track-12-given_distribution.py  --vc=-1 --num_hours=720 --p_sick_at_t0=0.001 --poi_psi=120000000.0  --home_beta=0.005 --state=all --enable=0 --distribution=original --intervene=4\n",
    "!python US_simulation-track-12-given_distribution.py  --vc=-1 --num_hours=720 --p_sick_at_t0=0.001 --poi_psi=120000000.0  --home_beta=0.005 --state=all --enable=0 --distribution=original --intervene=5"
   ]
  },
  {
   "cell_type": "code",
   "execution_count": 1,
   "id": "christian-philadelphia",
   "metadata": {},
   "outputs": [],
   "source": [
    "import numpy as np\n",
    "\n",
    "res = {}\n",
    "res['original'] = np.load('../results/results_all_original_720_intervene_0_120000000_0.63_2022_new_natural_imm_perfect_0.700000.npy', allow_pickle=True).item()\n",
    "res['original'] = res['original'][(-1.0, 0.001, 0.005, 120000000.0, 720, False)]\n",
    "S = res['original']['original']['all']['new_cases'][:, :].sum(axis=1)\n",
    "S = S.mean()"
   ]
  },
  {
   "cell_type": "code",
   "execution_count": 2,
   "id": "hydraulic-helen",
   "metadata": {},
   "outputs": [
    {
     "data": {
      "text/plain": [
       "4431862.44"
      ]
     },
     "execution_count": 2,
     "metadata": {},
     "output_type": "execute_result"
    }
   ],
   "source": [
    "S"
   ]
  },
  {
   "cell_type": "code",
   "execution_count": 3,
   "id": "modern-seattle",
   "metadata": {},
   "outputs": [],
   "source": [
    "key = (-1.0, 0.001, 0.005, 120000000.0, 720, False)\n",
    "\n",
    "res['proposed'] = np.load('../results/results_all_original_720_intervene_1_120000000_0.64_2022_new_natural_imm_perfect_0.700000_given_dis.npy', allow_pickle=True).item()[key]['original']\n",
    "res['centrality'] = np.load('../results/results_all_original_720_intervene_2_120000000_0.64_2022_new_natural_imm_perfect_0.700000_given_dis.npy', allow_pickle=True).item()[key]['original']\n",
    "res['lowest'] = np.load('../results/results_all_original_720_intervene_3_120000000_0.64_2022_new_natural_imm_perfect_0.700000_given_dis.npy', allow_pickle=True).item()[key]['original']\n",
    "res['random'] = np.load('../results/results_all_original_720_intervene_4_120000000_0.64_2022_new_natural_imm_perfect_0.700000_given_dis.npy', allow_pickle=True).item()[key]['original']\n",
    "res['untarget'] = np.load('../results/results_all_original_720_intervene_5_120000000_0.64_2022_new_natural_imm_perfect_0.700000_given_dis.npy', allow_pickle=True).item()[key]['original']"
   ]
  },
  {
   "cell_type": "code",
   "execution_count": 10,
   "id": "d4d9443f-a461-4bf2-9011-bf6d17b977cd",
   "metadata": {},
   "outputs": [
    {
     "data": {
      "text/plain": [
       "{'all': {'total_pop': 315504759,\n",
       "  'num_cbgs': 214697,\n",
       "  'new_cases': array([[    0.,    16.,    44., ..., 13645., 13617., 13724.],\n",
       "         [    0.,    15.,    33., ..., 13607., 13596., 13763.],\n",
       "         [    0.,    17.,    51., ..., 13581., 13582., 13650.],\n",
       "         ...,\n",
       "         [    0.,    19.,    33., ..., 13531., 13596., 13731.],\n",
       "         [    0.,    25.,    39., ..., 13612., 13735., 13766.],\n",
       "         [    0.,    26.,    43., ..., 13543., 13619., 13719.]]),\n",
       "  'new_cases_from_poi': array([[    0.,    16.,    34., ..., 10183., 10020., 10044.],\n",
       "         [    0.,    13.,    30., ..., 10030., 10128., 10187.],\n",
       "         [    0.,    13.,    47., ..., 10082., 10004., 10153.],\n",
       "         ...,\n",
       "         [    0.,    18.,    32., ...,  9942., 10005., 10175.],\n",
       "         [    0.,    20.,    34., ..., 10069., 10243., 10109.],\n",
       "         [    0.,    25.,    35., ..., 10061., 10073., 10185.]]),\n",
       "  'new_cases_from_base': array([[0.000e+00, 0.000e+00, 1.000e+01, ..., 3.462e+03, 3.597e+03,\n",
       "          3.680e+03],\n",
       "         [0.000e+00, 2.000e+00, 3.000e+00, ..., 3.577e+03, 3.468e+03,\n",
       "          3.576e+03],\n",
       "         [0.000e+00, 4.000e+00, 4.000e+00, ..., 3.499e+03, 3.578e+03,\n",
       "          3.497e+03],\n",
       "         ...,\n",
       "         [0.000e+00, 1.000e+00, 1.000e+00, ..., 3.589e+03, 3.591e+03,\n",
       "          3.556e+03],\n",
       "         [0.000e+00, 5.000e+00, 5.000e+00, ..., 3.543e+03, 3.492e+03,\n",
       "          3.657e+03],\n",
       "         [0.000e+00, 1.000e+00, 8.000e+00, ..., 3.482e+03, 3.546e+03,\n",
       "          3.534e+03]]),\n",
       "  'new_confirmed_cases': array([[0.000e+00, 3.000e+00, 1.300e+01, ..., 7.967e+03, 8.058e+03,\n",
       "          8.063e+03],\n",
       "         [0.000e+00, 7.000e+00, 9.000e+00, ..., 7.983e+03, 7.848e+03,\n",
       "          8.114e+03],\n",
       "         [0.000e+00, 4.000e+00, 1.200e+01, ..., 7.967e+03, 8.126e+03,\n",
       "          8.038e+03],\n",
       "         ...,\n",
       "         [0.000e+00, 5.000e+00, 6.000e+00, ..., 8.040e+03, 8.009e+03,\n",
       "          8.097e+03],\n",
       "         [0.000e+00, 4.000e+00, 1.400e+01, ..., 8.030e+03, 8.083e+03,\n",
       "          8.044e+03],\n",
       "         [0.000e+00, 8.000e+00, 9.000e+00, ..., 7.984e+03, 8.200e+03,\n",
       "          7.855e+03]]),\n",
       "  'new_deaths': array([[0., 0., 0., ..., 0., 0., 0.],\n",
       "         [0., 0., 0., ..., 0., 0., 0.],\n",
       "         [0., 0., 0., ..., 0., 0., 0.],\n",
       "         ...,\n",
       "         [0., 0., 0., ..., 0., 0., 0.],\n",
       "         [0., 0., 0., ..., 0., 0., 0.],\n",
       "         [0., 0., 0., ..., 0., 0., 0.]]),\n",
       "  'susceptible': array([[1.74414844e+08, 1.74480594e+08, 1.74545727e+08, ...,\n",
       "          2.10109803e+08, 2.10144261e+08, 2.10178034e+08],\n",
       "         [1.74414654e+08, 1.74480380e+08, 1.74545481e+08, ...,\n",
       "          2.10115573e+08, 2.10149511e+08, 2.10183940e+08],\n",
       "         [1.74415305e+08, 1.74480691e+08, 1.74545783e+08, ...,\n",
       "          2.10146090e+08, 2.10180294e+08, 2.10214186e+08],\n",
       "         ...,\n",
       "         [1.74414464e+08, 1.74479727e+08, 1.74544711e+08, ...,\n",
       "          2.10115210e+08, 2.10149334e+08, 2.10182867e+08],\n",
       "         [1.74414632e+08, 1.74480162e+08, 1.74545367e+08, ...,\n",
       "          2.10109492e+08, 2.10143468e+08, 2.10177685e+08],\n",
       "         [1.74414849e+08, 1.74480034e+08, 1.74544945e+08, ...,\n",
       "          2.10116931e+08, 2.10150977e+08, 2.10184923e+08]]),\n",
       "  'latent': array([[ 173230.59326022,  172279.59326022,  171337.59326022, ...,\n",
       "          1184367.59326023, 1186619.59326023, 1188808.59326023],\n",
       "         [ 173764.0929128 ,  172812.0929128 ,  171894.0929128 , ...,\n",
       "          1184300.09291281, 1186420.09291281, 1188449.09291282],\n",
       "         [ 172795.00067743,  171820.00067743,  170865.00067743, ...,\n",
       "          1179482.00067743, 1181760.00067743, 1183826.00067743],\n",
       "         ...,\n",
       "         [ 173602.18176603,  172586.18176603,  171677.18176603, ...,\n",
       "          1183647.18176605, 1185619.18176605, 1187994.18176605],\n",
       "         [ 173550.07157081,  172560.07157081,  171542.07157081, ...,\n",
       "          1185628.07157082, 1187941.07157082, 1190220.07157082],\n",
       "         [ 173126.13213652,  172184.13213652,  171231.13213652, ...,\n",
       "          1182106.13213654, 1184174.13213654, 1186519.13213654]]),\n",
       "  'infected': array([[9.910000e+02, 1.952000e+03, 2.914000e+03, ..., 1.068779e+06,\n",
       "          1.071374e+06, 1.073891e+06],\n",
       "         [9.870000e+02, 1.949000e+03, 2.883000e+03, ..., 1.066441e+06,\n",
       "          1.068966e+06, 1.071863e+06],\n",
       "         [1.017000e+03, 1.991000e+03, 2.984000e+03, ..., 1.061459e+06,\n",
       "          1.063785e+06, 1.066481e+06],\n",
       "         ...,\n",
       "         [1.006000e+03, 2.032000e+03, 2.962000e+03, ..., 1.067603e+06,\n",
       "          1.070350e+06, 1.072785e+06],\n",
       "         [1.030000e+03, 2.039000e+03, 3.081000e+03, ..., 1.069612e+06,\n",
       "          1.072159e+06, 1.074744e+06],\n",
       "         [9.830000e+02, 1.941000e+03, 2.918000e+03, ..., 1.065664e+06,\n",
       "          1.068362e+06, 1.070794e+06]]),\n",
       "  'removed': array([[1.40915693e+08, 1.40849933e+08, 1.40784780e+08, ...,\n",
       "          1.03141809e+08, 1.03102504e+08, 1.03064025e+08],\n",
       "         [1.40915354e+08, 1.40849618e+08, 1.40784501e+08, ...,\n",
       "          1.03138445e+08, 1.03099862e+08, 1.03060507e+08],\n",
       "         [1.40915642e+08, 1.40850257e+08, 1.40785127e+08, ...,\n",
       "          1.03117728e+08, 1.03078920e+08, 1.03040266e+08],\n",
       "         ...,\n",
       "         [1.40915687e+08, 1.40850414e+08, 1.40785409e+08, ...,\n",
       "          1.03138299e+08, 1.03099456e+08, 1.03061113e+08],\n",
       "         [1.40915547e+08, 1.40849998e+08, 1.40784769e+08, ...,\n",
       "          1.03140027e+08, 1.03101191e+08, 1.03062110e+08],\n",
       "         [1.40915801e+08, 1.40850600e+08, 1.40785665e+08, ...,\n",
       "          1.03140058e+08, 1.03101246e+08, 1.03062523e+08]]),\n",
       "  'num_out': array([51245.87855903, 51245.87855903, 51245.87855903, 51245.87855903,\n",
       "         51245.87855903, 51245.87855903, 51245.87855903, 51245.87855903,\n",
       "         51245.87855903, 51245.87855903, 51245.87855903, 51245.87855903,\n",
       "         51245.87855903, 51245.87855903, 51245.87855903, 51245.87855903,\n",
       "         51245.87855903, 51245.87855903, 51245.87855903, 51245.87855903,\n",
       "         51245.87855903, 51245.87855903, 51245.87855903, 51245.87855903,\n",
       "         51245.87855903, 51245.87855903, 51245.87855903, 51245.87855903,\n",
       "         51245.87855903, 51245.87855903, 51245.87855903, 51245.87855903,\n",
       "         51245.87855903, 51245.87855903, 51245.87855903, 51245.87855903,\n",
       "         51245.87855903, 51245.87855903, 51245.87855903, 51245.87855903,\n",
       "         51245.87855903, 51245.87855903, 51245.87855903, 51245.87855903,\n",
       "         51245.87855903, 51245.87855903, 51245.87855903, 51245.87855903,\n",
       "         51245.87855903, 51245.87855903, 51245.87855903, 51245.87855903,\n",
       "         51245.87855903, 51245.87855903, 51245.87855903, 51245.87855903,\n",
       "         51245.87855903, 51245.87855903, 51245.87855903, 51245.87855903,\n",
       "         51245.87855903, 51245.87855903, 51245.87855903, 51245.87855903,\n",
       "         51245.87855903, 51245.87855903, 51245.87855903, 51245.87855903,\n",
       "         51245.87855903, 51245.87855903, 51245.87855903, 51245.87855903,\n",
       "         51245.87855903, 51245.87855903, 51245.87855903, 51245.87855903,\n",
       "         51245.87855903, 51245.87855903, 51245.87855903, 51245.87855903,\n",
       "         51245.87855903, 51245.87855903, 51245.87855903, 51245.87855903,\n",
       "         51245.87855903, 51245.87855903, 51245.87855903, 51245.87855903,\n",
       "         51245.87855903, 51245.87855903, 51245.87855903, 51245.87855903,\n",
       "         51245.87855903, 51245.87855903, 51245.87855903, 51245.87855903,\n",
       "         51245.87855903, 51245.87855903, 51245.87855903, 51245.87855903,\n",
       "         51245.87855903, 51245.87855903, 51245.87855903, 51245.87855903,\n",
       "         51245.87855903, 51245.87855903, 51245.87855903, 51245.87855903,\n",
       "         51245.87855903, 51245.87855903, 51245.87855903, 51245.87855903,\n",
       "         51245.87855903, 51245.87855903, 51245.87855903, 51245.87855903,\n",
       "         51245.87855903, 51245.87855903, 51245.87855903, 51245.87855903,\n",
       "         51245.87855903, 51245.87855903, 51245.87855903, 51245.87855903,\n",
       "         51245.87855903, 51245.87855903, 51245.87855903, 51245.87855903,\n",
       "         51245.87855903, 51245.87855903, 51245.87855903, 51245.87855903,\n",
       "         51245.87855903, 51245.87855903, 51245.87855903, 51245.87855903,\n",
       "         51245.87855903, 51245.87855903, 51245.87855903, 51245.87855903,\n",
       "         51245.87855903, 51245.87855903, 51245.87855903, 51245.87855903,\n",
       "         51245.87855903, 51245.87855903, 51245.87855903, 51245.87855903,\n",
       "         51245.87855903, 51245.87855903, 51245.87855903, 51245.87855903,\n",
       "         51245.87855903, 51245.87855903, 51245.87855903, 51245.87855903,\n",
       "         51245.87855903, 51245.87855903, 51245.87855903, 51245.87855903,\n",
       "         51245.87855903, 51245.87855903, 51245.87855903, 51245.87855903,\n",
       "         51245.87855903, 51245.87855903, 51245.87855903, 51245.87855903,\n",
       "         51245.87855903, 51245.87855903, 51245.87855903, 51245.87855903,\n",
       "         51245.87855903, 51245.87855903, 51245.87855903, 51245.87855903,\n",
       "         51245.87855903, 51245.87855903, 51245.87855903, 51245.87855903,\n",
       "         51245.87855903, 51245.87855903, 51245.87855903, 51245.87855903,\n",
       "         51245.87855903, 51245.87855903, 51245.87855903, 51245.87855903,\n",
       "         51245.87855903, 51245.87855903, 51245.87855903, 51245.87855903,\n",
       "         51245.87855903, 51245.87855903, 51245.87855903, 51245.87855903,\n",
       "         51245.87855903, 51245.87855903, 51245.87855903, 51245.87855903,\n",
       "         51245.87855903, 51245.87855903, 51245.87855903, 51245.87855903,\n",
       "         51245.87855903, 51245.87855903, 51245.87855903, 51245.87855903,\n",
       "         51245.87855903, 51245.87855903, 51245.87855903, 51245.87855903,\n",
       "         51245.87855903, 51245.87855903, 51245.87855903, 51245.87855903,\n",
       "         51245.87855903, 51245.87855903, 51245.87855903, 51245.87855903,\n",
       "         51245.87855903, 51245.87855903, 51245.87855903, 51245.87855903,\n",
       "         51245.87855903, 51245.87855903, 51245.87855903, 51245.87855903,\n",
       "         51245.87855903, 51245.87855903, 51245.87855903, 51245.87855903,\n",
       "         51245.87855903, 51245.87855903, 51245.87855903, 51245.87855903,\n",
       "         51245.87855903, 51245.87855903, 51245.87855903, 51245.87855903,\n",
       "         51245.87855903, 51245.87855903, 51245.87855903, 51245.87855903,\n",
       "         51245.87855903, 51245.87855903, 51245.87855903, 51245.87855903,\n",
       "         51245.87855903, 51245.87855903, 51245.87855903, 51245.87855903,\n",
       "         51245.87855903, 51245.87855903, 51245.87855903, 51245.87855903,\n",
       "         51245.87855903, 51245.87855903, 51245.87855903, 51245.87855903,\n",
       "         51245.87855903, 51245.87855903, 51245.87855903, 51245.87855903,\n",
       "         51245.87855903, 51245.87855903, 51245.87855903, 51245.87855903,\n",
       "         51245.87855903, 51245.87855903, 51245.87855903, 51245.87855903,\n",
       "         51245.87855903, 51245.87855903, 51245.87855903, 51245.87855903,\n",
       "         51245.87855903, 51245.87855903, 51245.87855903, 51245.87855903,\n",
       "         51245.87855903, 51245.87855903, 51245.87855903, 51245.87855903,\n",
       "         51245.87855903, 51245.87855903, 51245.87855903, 51245.87855903,\n",
       "         51245.87855903, 51245.87855903, 51245.87855903, 51245.87855903,\n",
       "         51245.87855903, 51245.87855903, 51245.87855903, 51245.87855903,\n",
       "         51245.87855903, 51245.87855903, 51245.87855903, 51245.87855903,\n",
       "         51245.87855903, 51245.87855903, 51245.87855903, 51245.87855903,\n",
       "         51245.87855903, 51245.87855903, 51245.87855903, 51245.87855903,\n",
       "         51245.87855903, 51245.87855903, 51245.87855903, 51245.87855903,\n",
       "         51245.87855903, 51245.87855903, 51245.87855903, 51245.87855903,\n",
       "         51245.87855903, 51245.87855903, 51245.87855903, 51245.87855903,\n",
       "         51245.87855903, 51245.87855903, 51245.87855903, 51245.87855903,\n",
       "         51245.87855903, 51245.87855903, 51245.87855903, 51245.87855903,\n",
       "         51245.87855903, 51245.87855903, 51245.87855903, 51245.87855903,\n",
       "         51245.87855903, 51245.87855903, 51245.87855903, 51245.87855903,\n",
       "         51245.87855903, 51245.87855903, 51245.87855903, 51245.87855903,\n",
       "         51245.87855903, 51245.87855903, 51245.87855903, 51245.87855903,\n",
       "         51245.87855903, 51245.87855903, 51245.87855903, 51245.87855903,\n",
       "         51245.87855903, 51245.87855903, 51245.87855903, 51245.87855903,\n",
       "         51245.87855903, 51245.87855903, 51245.87855903, 51245.87855903,\n",
       "         51245.87855903, 51245.87855903, 51245.87855903, 51245.87855903,\n",
       "         51245.87855903, 51245.87855903, 51245.87855903, 51245.87855903,\n",
       "         51245.87855903, 51245.87855903, 51245.87855903, 51245.87855903,\n",
       "         51245.87855903, 51245.87855903, 51245.87855903, 51245.87855903,\n",
       "         51245.87855903, 51245.87855903, 51245.87855903, 51245.87855903,\n",
       "         51245.87855903, 51245.87855903, 51245.87855903, 51245.87855903,\n",
       "         51245.87855903, 51245.87855903, 51245.87855903, 51245.87855903,\n",
       "         51245.87855903, 51245.87855903, 51245.87855903, 51245.87855903,\n",
       "         51245.87855903, 51245.87855903, 51245.87855903, 51245.87855903,\n",
       "         51245.87855903, 51245.87855903, 51245.87855903, 51245.87855903,\n",
       "         51245.87855903, 51245.87855903, 51245.87855903, 51245.87855903,\n",
       "         51245.87855903, 51245.87855903, 51245.87855903, 51245.87855903,\n",
       "         51245.87855903, 51245.87855903, 51245.87855903, 51245.87855903,\n",
       "         51245.87855903, 51245.87855903, 51245.87855903, 51245.87855903,\n",
       "         51245.87855903, 51245.87855903, 51245.87855903, 51245.87855903,\n",
       "         51245.87855903, 51245.87855903, 51245.87855903, 51245.87855903,\n",
       "         51245.87855903, 51245.87855903, 51245.87855903, 51245.87855903,\n",
       "         51245.87855903, 51245.87855903, 51245.87855903, 51245.87855903,\n",
       "         51245.87855903, 51245.87855903, 51245.87855903, 51245.87855903,\n",
       "         51245.87855903, 51245.87855903, 51245.87855903, 51245.87855903,\n",
       "         51245.87855903, 51245.87855903, 51245.87855903, 51245.87855903,\n",
       "         51245.87855903, 51245.87855903, 51245.87855903, 51245.87855903,\n",
       "         51245.87855903, 51245.87855903, 51245.87855903, 51245.87855903,\n",
       "         51245.87855903, 51245.87855903, 51245.87855903, 51245.87855903,\n",
       "         51245.87855903, 51245.87855903, 51245.87855903, 51245.87855903,\n",
       "         51245.87855903, 51245.87855903, 51245.87855903, 51245.87855903,\n",
       "         51245.87855903, 51245.87855903, 51245.87855903, 51245.87855903,\n",
       "         51245.87855903, 51245.87855903, 51245.87855903, 51245.87855903,\n",
       "         51245.87855903, 51245.87855903, 51245.87855903, 51245.87855903,\n",
       "         51245.87855903, 51245.87855903, 51245.87855903, 51245.87855903,\n",
       "         51245.87855903, 51245.87855903, 51245.87855903, 51245.87855903,\n",
       "         51245.87855903, 51245.87855903, 51245.87855903, 51245.87855903,\n",
       "         51245.87855903, 51245.87855903, 51245.87855903, 51245.87855903,\n",
       "         51245.87855903, 51245.87855903, 51245.87855903, 51245.87855903,\n",
       "         51245.87855903, 51245.87855903, 51245.87855903, 51245.87855903,\n",
       "         51245.87855903, 51245.87855903, 51245.87855903, 51245.87855903,\n",
       "         51245.87855903, 51245.87855903, 51245.87855903, 51245.87855903,\n",
       "         51245.87855903, 51245.87855903, 51245.87855903, 51245.87855903,\n",
       "         51245.87855903, 51245.87855903, 51245.87855903, 51245.87855903,\n",
       "         51245.87855903, 51245.87855903, 51245.87855903, 51245.87855903,\n",
       "         51245.87855903, 51245.87855903, 51245.87855903, 51245.87855903,\n",
       "         51245.87855903, 51245.87855903, 51245.87855903, 51245.87855903,\n",
       "         51245.87855903, 51245.87855903, 51245.87855903, 51245.87855903,\n",
       "         51245.87855903, 51245.87855903, 51245.87855903, 51245.87855903,\n",
       "         51245.87855903, 51245.87855903, 51245.87855903, 51245.87855903,\n",
       "         51245.87855903, 51245.87855903, 51245.87855903, 51245.87855903,\n",
       "         51245.87855903, 51245.87855903, 51245.87855903, 51245.87855903,\n",
       "         51245.87855903, 51245.87855903, 51245.87855903, 51245.87855903,\n",
       "         51245.87855903, 51245.87855903, 51245.87855903, 51245.87855903,\n",
       "         51245.87855903, 51245.87855903, 51245.87855903, 51245.87855903,\n",
       "         51245.87855903, 51245.87855903, 51245.87855903, 51245.87855903,\n",
       "         51245.87855903, 51245.87855903, 51245.87855903, 51245.87855903,\n",
       "         51245.87855903, 51245.87855903, 51245.87855903, 51245.87855903,\n",
       "         51245.87855903, 51245.87855903, 51245.87855903, 51245.87855903,\n",
       "         51245.87855903, 51245.87855903, 51245.87855903, 51245.87855903,\n",
       "         51245.87855903, 51245.87855903, 51245.87855903, 51245.87855903,\n",
       "         51245.87855903, 51245.87855903, 51245.87855903, 51245.87855903,\n",
       "         51245.87855903, 51245.87855903, 51245.87855903, 51245.87855903,\n",
       "         51245.87855903, 51245.87855903, 51245.87855903, 51245.87855903,\n",
       "         51245.87855903, 51245.87855903, 51245.87855903, 51245.87855903,\n",
       "         51245.87855903, 51245.87855903, 51245.87855903, 51245.87855903,\n",
       "         51245.87855903, 51245.87855903, 51245.87855903, 51245.87855903,\n",
       "         51245.87855903, 51245.87855903, 51245.87855903, 51245.87855903,\n",
       "         51245.87855903, 51245.87855903, 51245.87855903, 51245.87855903,\n",
       "         51245.87855903, 51245.87855903, 51245.87855903, 51245.87855903,\n",
       "         51245.87855903, 51245.87855903, 51245.87855903, 51245.87855903,\n",
       "         51245.87855903, 51245.87855903, 51245.87855903, 51245.87855903,\n",
       "         51245.87855903, 51245.87855903, 51245.87855903, 51245.87855903,\n",
       "         51245.87855903, 51245.87855903, 51245.87855903, 51245.87855903,\n",
       "         51245.87855903, 51245.87855903, 51245.87855903, 51245.87855903,\n",
       "         51245.87855903, 51245.87855903, 51245.87855903, 51245.87855903,\n",
       "         51245.87855903, 51245.87855903, 51245.87855903, 51245.87855903,\n",
       "         51245.87855903, 51245.87855903, 51245.87855903, 51245.87855903,\n",
       "         51245.87855903, 51245.87855903, 51245.87855903, 51245.87855903,\n",
       "         51245.87855903, 51245.87855903, 51245.87855903, 51245.87855903,\n",
       "         51245.87855903, 51245.87855903, 51245.87855903, 51245.87855903,\n",
       "         51245.87855903, 51245.87855903, 51245.87855903, 51245.87855903,\n",
       "         51245.87855903, 51245.87855903, 51245.87855903, 51245.87855903,\n",
       "         51245.87855903, 51245.87855903, 51245.87855903, 51245.87855903,\n",
       "         51245.87855903, 51245.87855903, 51245.87855903, 51245.87855903,\n",
       "         51245.87855903, 51245.87855903, 51245.87855903, 51245.87855903,\n",
       "         51245.87855903, 51245.87855903, 51245.87855903, 51245.87855903,\n",
       "         51245.87855903, 51245.87855903, 51245.87855903, 51245.87855903,\n",
       "         51245.87855903, 51245.87855903, 51245.87855903, 51245.87855903,\n",
       "         51245.87855903, 51245.87855903, 51245.87855903, 51245.87855903,\n",
       "         51245.87855903, 51245.87855903, 51245.87855903, 51245.87855903,\n",
       "         51245.87855903, 51245.87855903, 51245.87855903, 51245.87855903,\n",
       "         51245.87855903, 51245.87855903, 51245.87855903, 51245.87855903,\n",
       "         51245.87855903, 51245.87855903, 51245.87855903, 51245.87855903,\n",
       "         51245.87855903, 51245.87855903, 51245.87855903, 51245.87855903,\n",
       "         51245.87855903, 51245.87855903, 51245.87855903, 51245.87855903]),\n",
       "  'num_cbgs_with_no_out': array([3., 3., 3., 3., 3., 3., 3., 3., 3., 3., 3., 3., 3., 3., 3., 3., 3.,\n",
       "         3., 3., 3., 3., 3., 3., 3., 3., 3., 3., 3., 3., 3., 3., 3., 3., 3.,\n",
       "         3., 3., 3., 3., 3., 3., 3., 3., 3., 3., 3., 3., 3., 3., 3., 3., 3.,\n",
       "         3., 3., 3., 3., 3., 3., 3., 3., 3., 3., 3., 3., 3., 3., 3., 3., 3.,\n",
       "         3., 3., 3., 3., 3., 3., 3., 3., 3., 3., 3., 3., 3., 3., 3., 3., 3.,\n",
       "         3., 3., 3., 3., 3., 3., 3., 3., 3., 3., 3., 3., 3., 3., 3., 3., 3.,\n",
       "         3., 3., 3., 3., 3., 3., 3., 3., 3., 3., 3., 3., 3., 3., 3., 3., 3.,\n",
       "         3., 3., 3., 3., 3., 3., 3., 3., 3., 3., 3., 3., 3., 3., 3., 3., 3.,\n",
       "         3., 3., 3., 3., 3., 3., 3., 3., 3., 3., 3., 3., 3., 3., 3., 3., 3.,\n",
       "         3., 3., 3., 3., 3., 3., 3., 3., 3., 3., 3., 3., 3., 3., 3., 3., 3.,\n",
       "         3., 3., 3., 3., 3., 3., 3., 3., 3., 3., 3., 3., 3., 3., 3., 3., 3.,\n",
       "         3., 3., 3., 3., 3., 3., 3., 3., 3., 3., 3., 3., 3., 3., 3., 3., 3.,\n",
       "         3., 3., 3., 3., 3., 3., 3., 3., 3., 3., 3., 3., 3., 3., 3., 3., 3.,\n",
       "         3., 3., 3., 3., 3., 3., 3., 3., 3., 3., 3., 3., 3., 3., 3., 3., 3.,\n",
       "         3., 3., 3., 3., 3., 3., 3., 3., 3., 3., 3., 3., 3., 3., 3., 3., 3.,\n",
       "         3., 3., 3., 3., 3., 3., 3., 3., 3., 3., 3., 3., 3., 3., 3., 3., 3.,\n",
       "         3., 3., 3., 3., 3., 3., 3., 3., 3., 3., 3., 3., 3., 3., 3., 3., 3.,\n",
       "         3., 3., 3., 3., 3., 3., 3., 3., 3., 3., 3., 3., 3., 3., 3., 3., 3.,\n",
       "         3., 3., 3., 3., 3., 3., 3., 3., 3., 3., 3., 3., 3., 3., 3., 3., 3.,\n",
       "         3., 3., 3., 3., 3., 3., 3., 3., 3., 3., 3., 3., 3., 3., 3., 3., 3.,\n",
       "         3., 3., 3., 3., 3., 3., 3., 3., 3., 3., 3., 3., 3., 3., 3., 3., 3.,\n",
       "         3., 3., 3., 3., 3., 3., 3., 3., 3., 3., 3., 3., 3., 3., 3., 3., 3.,\n",
       "         3., 3., 3., 3., 3., 3., 3., 3., 3., 3., 3., 3., 3., 3., 3., 3., 3.,\n",
       "         3., 3., 3., 3., 3., 3., 3., 3., 3., 3., 3., 3., 3., 3., 3., 3., 3.,\n",
       "         3., 3., 3., 3., 3., 3., 3., 3., 3., 3., 3., 3., 3., 3., 3., 3., 3.,\n",
       "         3., 3., 3., 3., 3., 3., 3., 3., 3., 3., 3., 3., 3., 3., 3., 3., 3.,\n",
       "         3., 3., 3., 3., 3., 3., 3., 3., 3., 3., 3., 3., 3., 3., 3., 3., 3.,\n",
       "         3., 3., 3., 3., 3., 3., 3., 3., 3., 3., 3., 3., 3., 3., 3., 3., 3.,\n",
       "         3., 3., 3., 3., 3., 3., 3., 3., 3., 3., 3., 3., 3., 3., 3., 3., 3.,\n",
       "         3., 3., 3., 3., 3., 3., 3., 3., 3., 3., 3., 3., 3., 3., 3., 3., 3.,\n",
       "         3., 3., 3., 3., 3., 3., 3., 3., 3., 3., 3., 3., 3., 3., 3., 3., 3.,\n",
       "         3., 3., 3., 3., 3., 3., 3., 3., 3., 3., 3., 3., 3., 3., 3., 3., 3.,\n",
       "         3., 3., 3., 3., 3., 3., 3., 3., 3., 3., 3., 3., 3., 3., 3., 3., 3.,\n",
       "         3., 3., 3., 3., 3., 3., 3., 3., 3., 3., 3., 3., 3., 3., 3., 3., 3.,\n",
       "         3., 3., 3., 3., 3., 3., 3., 3., 3., 3., 3., 3., 3., 3., 3., 3., 3.,\n",
       "         3., 3., 3., 3., 3., 3., 3., 3., 3., 3., 3., 3., 3., 3., 3., 3., 3.,\n",
       "         3., 3., 3., 3., 3., 3., 3., 3., 3., 3., 3., 3., 3., 3., 3., 3., 3.,\n",
       "         3., 3., 3., 3., 3., 3., 3., 3., 3., 3., 3., 3., 3., 3., 3., 3., 3.,\n",
       "         3., 3., 3., 3., 3., 3., 3., 3., 3., 3., 3., 3., 3., 3., 3., 3., 3.,\n",
       "         3., 3., 3., 3., 3., 3., 3., 3., 3., 3., 3., 3., 3., 3., 3., 3., 3.,\n",
       "         3., 3., 3., 3., 3., 3., 3., 3., 3., 3., 3., 3., 3., 3., 3., 3., 3.,\n",
       "         3., 3., 3., 3., 3., 3., 3., 3., 3., 3., 3., 3., 3., 3., 3., 3., 3.,\n",
       "         3., 3., 3., 3., 3., 3.]),\n",
       "  'ipf_iter_col_num_out': array([0., 0., 0., 0., 0., 0., 0., 0., 0., 0., 0., 0., 0., 0., 0., 0., 0.,\n",
       "         0., 0., 0., 0., 0., 0., 0., 0., 0., 0., 0., 0., 0., 0., 0., 0., 0.,\n",
       "         0., 0., 0., 0., 0., 0., 0., 0., 0., 0., 0., 0., 0., 0., 0., 0., 0.,\n",
       "         0., 0., 0., 0., 0., 0., 0., 0., 0., 0., 0., 0., 0., 0., 0., 0., 0.,\n",
       "         0., 0., 0., 0., 0., 0., 0., 0., 0., 0., 0., 0., 0., 0., 0., 0., 0.,\n",
       "         0., 0., 0., 0., 0., 0., 0., 0., 0., 0., 0., 0., 0., 0., 0.]),\n",
       "  'ipf_iter_row_num_out': array([0., 0., 0., 0., 0., 0., 0., 0., 0., 0., 0., 0., 0., 0., 0., 0., 0.,\n",
       "         0., 0., 0., 0., 0., 0., 0., 0., 0., 0., 0., 0., 0., 0., 0., 0., 0.,\n",
       "         0., 0., 0., 0., 0., 0., 0., 0., 0., 0., 0., 0., 0., 0., 0., 0., 0.,\n",
       "         0., 0., 0., 0., 0., 0., 0., 0., 0., 0., 0., 0., 0., 0., 0., 0., 0.,\n",
       "         0., 0., 0., 0., 0., 0., 0., 0., 0., 0., 0., 0., 0., 0., 0., 0., 0.,\n",
       "         0., 0., 0., 0., 0., 0., 0., 0., 0., 0., 0., 0., 0., 0., 0.]),\n",
       "  'before_ipf_num_out': 0}}"
      ]
     },
     "execution_count": 10,
     "metadata": {},
     "output_type": "execute_result"
    }
   ],
   "source": [
    "res['untarget'].history['']"
   ]
  },
  {
   "cell_type": "code",
   "execution_count": 30,
   "id": "trying-alcohol",
   "metadata": {},
   "outputs": [
    {
     "name": "stdout",
     "output_type": "stream",
     "text": [
      "0.02724526801874294 0.027023934434210584 0.03403829474454545 0.08137467371392515 0.09492836154003015\n"
     ]
    },
    {
     "data": {
      "image/png": "[encoded data removed]",
      "text/plain": [
       "<Figure size 864x864 with 1 Axes>"
      ]
     },
     "metadata": {
      "needs_background": "light"
     },
     "output_type": "display_data"
    }
   ],
   "source": [
    "import seaborn as sns\n",
    "import matplotlib.pyplot as plt\n",
    "\n",
    "plt.figure(figsize=(12, 12))\n",
    "\n",
    "sns.set_context('poster', font_scale=1.5)\n",
    "sns.set_palette(['#95a5a6', '#34495e', '#3498db', '#9b59b6', '#e74c3c'])\n",
    "\n",
    "plt.bar([0], \n",
    "             [1-(res['untarget'].history['all']['new_cases'][:, :].sum(axis=1) / S).mean()],\n",
    "             yerr=[(res['untarget'].history['all']['new_cases'][:, :].sum(axis=1) / S).std()],\n",
    "            )\n",
    "\n",
    "plt.bar([1], \n",
    "             [1-(res['random'].history['all']['new_cases'].sum(axis=1) / S).mean()],\n",
    "             yerr=[(res['random'].history['all']['new_cases'].sum(axis=1) / S).std()],\n",
    "            )\n",
    "\n",
    "\n",
    "plt.bar([2], \n",
    "             [1-(res['lowest'].history['all']['new_cases'].sum(axis=1) / S).mean()],\n",
    "             yerr=[(res['lowest'].history['all']['new_cases'].sum(axis=1) / S).std()],\n",
    "            )\n",
    "\n",
    "plt.bar([3], \n",
    "             [1-(res['centrality'].history['all']['new_cases'].sum(axis=1) / S).mean()],\n",
    "             yerr=[(res['centrality'].history['all']['new_cases'].sum(axis=1) / S).std()],\n",
    "            )\n",
    "\n",
    "\n",
    "plt.bar([4], \n",
    "             [(1-res['proposed'].history['all']['new_cases'].sum(axis=1) / S).mean()],\n",
    "             yerr=[(res['proposed'].history['all']['new_cases'].sum(axis=1) / S).std()],\n",
    "            )\n",
    "\n",
    "print(1-(res['untarget'].history['all']['new_cases'].sum(axis=1) / S).mean(),\n",
    "      1-(res['random'].history['all']['new_cases'].sum(axis=1) / S).mean(),\n",
    "      1-(res['lowest'].history['all']['new_cases'].sum(axis=1) / S).mean(),\n",
    "      1-(res['centrality'].history['all']['new_cases'].sum(axis=1) / S).mean(),\n",
    "      1-(res['proposed'].history['all']['new_cases'].sum(axis=1) / S).mean()\n",
    "     )\n",
    "\n",
    "sns.despine()\n",
    "\n",
    "plt.xticks([0,1,2,3,4], ['unif', 'rand', 'least\\nvax', 'most\\ncentral', 'opt'], fontsize=38)\n",
    "# plt.axhline(1.0, linestyle='--', color='#bdc3c7')\n",
    "plt.yticks([0, 0.025, 0.05, 0.075, 0.1, \n",
    "            0.125, 0.150, 0.175, 0.2],\n",
    "           [\n",
    "               '0.0%', '2.5%', '5.0%', '7.5%',\n",
    "               '10.0%', '12.5%', '15.0%', '17.5%', '20.0%'], fontsize=38\n",
    "          )\n",
    "\n",
    "plt.ylabel('% reduction in case number', fontsize=38)\n",
    "plt.tight_layout()\n",
    "plt.ylim((0, .1))\n",
    "plt.savefig('../results/target_720_2022.pdf')"
   ]
  },
  {
   "cell_type": "code",
   "execution_count": 5,
   "id": "liked-pride",
   "metadata": {},
   "outputs": [],
   "source": [
    "import numpy as np\n",
    "\n",
    "res = {}\n",
    "res['original'] = np.load('../results/results_all_original_720_intervene_0_120000000_0.63_2022_new_natural_imm_perfect_1.000000.npy', allow_pickle=True).item()\n",
    "res['original'] = res['original'][(-1.0, 0.001, 0.005, 120000000.0, 720, False)]\n",
    "S = res['original']['original']['all']['new_cases'][:, :].sum(axis=1)\n",
    "S = S.mean()"
   ]
  },
  {
   "cell_type": "code",
   "execution_count": 6,
   "id": "placed-nowhere",
   "metadata": {},
   "outputs": [],
   "source": [
    "key = (-1.0, 0.001, 0.005, 120000000.0, 720, False)\n",
    "\n",
    "res['proposed'] = np.load('../results/results_all_original_720_intervene_1_120000000_0.64_2022_new_natural_imm_perfect_1.000000_given_dis.npy', allow_pickle=True).item()[key]['original']\n",
    "res['centrality'] = np.load('../results/results_all_original_720_intervene_2_120000000_0.64_2022_new_natural_imm_perfect_1.000000_given_dis.npy', allow_pickle=True).item()[key]['original']\n",
    "res['lowest'] = np.load('../results/results_all_original_720_intervene_3_120000000_0.64_2022_new_natural_imm_perfect_1.000000_given_dis.npy', allow_pickle=True).item()[key]['original']\n",
    "res['random'] = np.load('../results/results_all_original_720_intervene_4_120000000_0.64_2022_new_natural_imm_perfect_1.000000_given_dis.npy', allow_pickle=True).item()[key]['original']\n",
    "res['untarget'] = np.load('../results/results_all_original_720_intervene_5_120000000_0.64_2022_new_natural_imm_perfect_1.000000_given_dis.npy', allow_pickle=True).item()[key]['original']"
   ]
  },
  {
   "cell_type": "code",
   "execution_count": null,
   "id": "missing-union",
   "metadata": {},
   "outputs": [],
   "source": [
    "import seaborn as sns\n",
    "import matplotlib.pyplot as plt\n",
    "\n",
    "plt.figure(figsize=(12, 12))\n",
    "\n",
    "sns.set_context('poster', font_scale=1.5)\n",
    "sns.set_palette(['#95a5a6', '#34495e', '#3498db', '#9b59b6', '#e74c3c'])\n",
    "\n",
    "plt.bar([0], \n",
    "             [1-(res['untarget']['all']['new_cases'][:, :].sum(axis=1) / S).mean()],\n",
    "             yerr=[(res['untarget']['all']['new_cases'][:, :].sum(axis=1) / S).std()],\n",
    "            )\n",
    "\n",
    "plt.bar([1], \n",
    "             [1-(res['random']['all']['new_cases'].sum(axis=1) / S).mean()],\n",
    "             yerr=[(res['random']['all']['new_cases'].sum(axis=1) / S).std()],\n",
    "            )\n",
    "\n",
    "\n",
    "plt.bar([2], \n",
    "             [1-(res['lowest']['all']['new_cases'].sum(axis=1) / S).mean()],\n",
    "             yerr=[(res['lowest']['all']['new_cases'].sum(axis=1) / S).std()],\n",
    "            )\n",
    "\n",
    "plt.bar([3], \n",
    "             [1-(res['centrality']['all']['new_cases'].sum(axis=1) / S).mean()],\n",
    "             yerr=[(res['centrality']['all']['new_cases'].sum(axis=1) / S).std()],\n",
    "            )\n",
    "\n",
    "\n",
    "plt.bar([4], \n",
    "             [(1-res['proposed']['all']['new_cases'].sum(axis=1) / S).mean()],\n",
    "             yerr=[(res['proposed']['all']['new_cases'].sum(axis=1) / S).std()],\n",
    "            )\n",
    "\n",
    "print(1-(res['untarget']['all']['new_cases'].sum(axis=1) / S).mean(),\n",
    "      1-(res['random']['all']['new_cases'].sum(axis=1) / S).mean(),\n",
    "      1-(res['lowest']['all']['new_cases'].sum(axis=1) / S).mean(),\n",
    "      1-(res['centrality']['all']['new_cases'].sum(axis=1) / S).mean(),\n",
    "      1-(res['proposed']['all']['new_cases'].sum(axis=1) / S).mean()\n",
    "     )\n",
    "\n",
    "sns.despine()\n",
    "\n",
    "plt.xticks([0,1,2,3,4], ['untargeted', 'random', 'least vaccinated', 'most central', 'optimized'], rotation=30, fontsize=25)\n",
    "# plt.axhline(1.0, linestyle='--', color='#bdc3c7')\n",
    "plt.yticks([0, 0.025, 0.05, 0.075, 0.1, \n",
    "            0.125, 0.150, 0.175, 0.2],\n",
    "           [\n",
    "               '0.0%', '2.5%', '5.0%', '7.5%',\n",
    "               '10.0%', '12.5%', '15.0%', '17.5%', '20.0%']\n",
    "          )\n",
    "\n",
    "plt.ylabel('% reduction in case number')\n",
    "plt.tight_layout()\n",
    "plt.ylim((0, None))\n",
    "plt.savefig('../results/target_720_2022.pdf')\n"
   ]
  },
  {
   "cell_type": "code",
   "execution_count": 6,
   "id": "adjusted-sustainability",
   "metadata": {},
   "outputs": [],
   "source": [
    "v = np.load('../results/campaign/v_2022.npy')\n",
    "target_highest_centrality_increase = np.load('../results/campaign/target_highest_centrality_increase_2022.npy')\n"
   ]
  },
  {
   "cell_type": "code",
   "execution_count": 7,
   "id": "derived-length",
   "metadata": {},
   "outputs": [
    {
     "data": {
      "text/plain": [
       "array([-9.53345312e-07, -1.15854528e-06, -1.06232711e-06, ...,\n",
       "       -1.05839984e-06, -1.24887254e-06, -2.12858150e-06])"
      ]
     },
     "execution_count": 7,
     "metadata": {},
     "output_type": "execute_result"
    }
   ],
   "source": []
  },
  {
   "cell_type": "code",
   "execution_count": 13,
   "id": "exact-slave",
   "metadata": {},
   "outputs": [
    {
     "data": {
      "text/plain": [
       "0.800523286237572"
      ]
     },
     "execution_count": 13,
     "metadata": {},
     "output_type": "execute_result"
    }
   ],
   "source": [
    "np.logical_and(v > 0, target_highest_centrality_increase>0).sum() / np.sum(target_highest_centrality_increase > 0)"
   ]
  },
  {
   "cell_type": "code",
   "execution_count": null,
   "id": "disciplinary-swing",
   "metadata": {},
   "outputs": [],
   "source": []
  },
  {
   "cell_type": "code",
   "execution_count": 28,
   "id": "incredible-transition",
   "metadata": {},
   "outputs": [],
   "source": [
    "v1 = np.load('../results/campaign/v_2022.npy', allow_pickle=True)\n",
    "v2 = np.load('../results/campaign/v.npy', allow_pickle=True)\n"
   ]
  },
  {
   "cell_type": "code",
   "execution_count": 31,
   "id": "noticed-enforcement",
   "metadata": {},
   "outputs": [
    {
     "data": {
      "text/plain": [
       "0.7653894285203504"
      ]
     },
     "execution_count": 31,
     "metadata": {},
     "output_type": "execute_result"
    }
   ],
   "source": [
    "np.logical_and(v1 > 0.05, v2 > 0.05).sum() / np.logical_or(v1 > 0.05, v2 > 0.05).sum()"
   ]
  },
  {
   "cell_type": "code",
   "execution_count": 33,
   "id": "comparable-planet",
   "metadata": {},
   "outputs": [
    {
     "data": {
      "text/plain": [
       "0.870425589590675"
      ]
     },
     "execution_count": 33,
     "metadata": {},
     "output_type": "execute_result"
    }
   ],
   "source": [
    "np.logical_and(v1 > 0.05, v2 > 0.05).sum() / np.logical_or(v1 > 0.05, v1 > 0.05).sum()"
   ]
  },
  {
   "cell_type": "code",
   "execution_count": 2,
   "id": "following-piece",
   "metadata": {},
   "outputs": [],
   "source": [
    "import numpy as np\n",
    "\n",
    "v = np.load('../results/campaign/v_2022.npy', allow_pickle=True)\n",
    "target_highest_centrality_increase = np.load('../results/campaign/target_highest_centrality_increase_2022.npy', allow_pickle=True)\n",
    "target_lowest_vaccination_increase = np.load('../results/campaign/target_lowest_vaccination_increase_2022.npy', allow_pickle=True)\n",
    "target_random_increase = np.load('../results/campaign/target_random_increase_2022.npy', allow_pickle=True)"
   ]
  },
  {
   "cell_type": "code",
   "execution_count": 3,
   "id": "legitimate-shirt",
   "metadata": {},
   "outputs": [],
   "source": [
    "import seaborn as sns\n",
    "import matplotlib.pyplot as plt"
   ]
  },
  {
   "cell_type": "code",
   "execution_count": 4,
   "id": "front-singapore",
   "metadata": {},
   "outputs": [],
   "source": [
    "v = np.maximum(0, v)"
   ]
  },
  {
   "cell_type": "code",
   "execution_count": 5,
   "id": "silver-virus",
   "metadata": {},
   "outputs": [
    {
     "data": {
      "text/plain": [
       "(1, 250000)"
      ]
     },
     "execution_count": 5,
     "metadata": {},
     "output_type": "execute_result"
    },
    {
     "data": {
      "image/png": "[encoded data removed]",
      "text/plain": [
       "<Figure size 1152x1152 with 4 Axes>"
      ]
     },
     "metadata": {
      "needs_background": "light"
     },
     "output_type": "display_data"
    }
   ],
   "source": [
    "sns.set_context('poster', font_scale=1.2)\n",
    "\n",
    "plt.figure(figsize=(16, 16))\n",
    "plt.subplot(221)\n",
    "plt.hist(v, bins=[k*0.005 for k in range(0, 21)], log=True)\n",
    "plt.ylim(1, 250000)\n",
    "# plt.yscale('log')\n",
    "\n",
    "plt.subplot(222)\n",
    "plt.hist(target_highest_centrality_increase, bins=[k*0.005 for k in range(0, 21)], log=True)\n",
    "plt.ylim(1, 250000)\n",
    "# plt.yscale('log')\n",
    "\n",
    "plt.subplot(223)\n",
    "plt.hist(target_lowest_vaccination_increase, bins=[k*0.005 for k in range(0, 21)], log=True)\n",
    "plt.ylim(1, 250000)\n",
    "# plt.yscale('log')\n",
    "\n",
    "plt.subplot(224)\n",
    "plt.hist(target_random_increase, bins=[k*0.005 for k in range(0, 21)], log=True)\n",
    "plt.ylim(1, 250000)\n",
    "# plt.yscale('log')\n",
    "\n"
   ]
  },
  {
   "cell_type": "code",
   "execution_count": 6,
   "id": "auburn-emission",
   "metadata": {},
   "outputs": [
    {
     "data": {
      "image/png": "[encoded data removed]",
      "text/plain": [
       "<Figure size 1152x1152 with 4 Axes>"
      ]
     },
     "metadata": {
      "needs_background": "light"
     },
     "output_type": "display_data"
    }
   ],
   "source": [
    "sns.set_context('poster', font_scale=1.2)\n",
    "\n",
    "plt.figure(figsize=(16, 16))\n",
    "plt.subplot(221)\n",
    "plt.hist(v, bins=[k*0.005 for k in range(0, 21)])#, log=True)\n",
    "plt.ylim(1, 250000)\n",
    "plt.title('proposed')\n",
    "plt.xlabel('increased vax rate')\n",
    "\n",
    "\n",
    "plt.subplot(222)\n",
    "plt.hist(target_highest_centrality_increase, bins=[k*0.005 for k in range(0, 21)])#, log=True)\n",
    "plt.title('central')\n",
    "plt.xlabel('increased vax rate')\n",
    "\n",
    "\n",
    "plt.subplot(223)\n",
    "plt.hist(target_lowest_vaccination_increase, bins=[k*0.005 for k in range(0, 21)])#, log=True)\n",
    "plt.ylim(1, 250000)\n",
    "plt.title('lowest vaxed')\n",
    "plt.xlabel('increased vax rate')\n",
    "\n",
    "plt.subplot(224)\n",
    "plt.hist(target_random_increase, bins=[k*0.005 for k in range(0, 21)])#, log=True)\n",
    "plt.ylim(1, 250000)\n",
    "plt.title('random')\n",
    "plt.xlabel('increased vax rate')\n",
    "\n",
    "plt.tight_layout()\n",
    "plt.savefig('../results/campaign_dis_2022.pdf')"
   ]
  },
  {
   "cell_type": "code",
   "execution_count": null,
   "id": "integrated-credits",
   "metadata": {},
   "outputs": [],
   "source": []
  }
 ],
 "metadata": {
  "kernelspec": {
   "display_name": "Python 3 (ipykernel)",
   "language": "python",
   "name": "python3"
  },
  "language_info": {
   "codemirror_mode": {
    "name": "ipython",
    "version": 3
   },
   "file_extension": ".py",
   "mimetype": "text/x-python",
   "name": "python",
   "nbconvert_exporter": "python",
   "pygments_lexer": "ipython3",
   "version": "3.8.3"
  }
 },
 "nbformat": 4,
 "nbformat_minor": 5
}
