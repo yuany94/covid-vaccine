{
 "cells": [
  {
   "cell_type": "code",
   "execution_count": 1,
   "id": "conservative-contrast",
   "metadata": {},
   "outputs": [],
   "source": [
    "import numpy as np"
   ]
  },
  {
   "cell_type": "code",
   "execution_count": 36,
   "id": "charitable-walker",
   "metadata": {},
   "outputs": [],
   "source": [
    "edges1 = {}\n",
    "\n",
    "for i in range(50):\n",
    "    cluster_i = i // 25\n",
    "    N_in = np.random.binomial(25, 0.6)\n",
    "#     N_in = np.random.binomial(100, 0.5)\n",
    "    in_poi = list(cluster_i * 25 + np.random.choice(25, N_in))\n",
    "    N_out = np.random.binomial(25, 0.1)\n",
    "    out_poi = list(np.random.choice(25, N_out))\n",
    "    for j in in_poi + out_poi:\n",
    "        if j not in edges1:\n",
    "            edges1[j] = {}\n",
    "        edges1[j][i] = (np.random.poisson(1) + 1) \n",
    "        "
   ]
  },
  {
   "cell_type": "code",
   "execution_count": 38,
   "id": "ceramic-portrait",
   "metadata": {},
   "outputs": [],
   "source": [
    "redges1 = {}\n",
    "\n",
    "for j in edges1:\n",
    "    for i in edges1[j]:\n",
    "        if i not in redges1:\n",
    "            redges1[i] = {}\n",
    "        redges1[i][j] = edges1[j][i]"
   ]
  },
  {
   "cell_type": "code",
   "execution_count": 48,
   "id": "broke-courage",
   "metadata": {},
   "outputs": [
    {
     "data": {
      "text/plain": [
       "array([ 1,  1, 14,  1, 33,  1, 19,  1,  1, 18,  4,  3,  1, 20,  1, 12,  1,\n",
       "        1,  1, 28, 19, 12,  1,  1,  3,  1,  1,  1,  1,  1, 15,  1,  1,  2,\n",
       "        3,  1,  1,  1,  1,  1, 21,  4,  2, 44,  1,  3,  1, 19,  1,  8,  1,\n",
       "        7,  1,  1,  1, 43, 11,  8,  1, 26,  1,  1,  1, 49,  2,  1,  1,  1,\n",
       "        1,  5,  1,  1,  1,  1,  1,  1, 43, 20,  1,  1,  1,  1,  1,  1,  1,\n",
       "        1, 22,  2,  1,  1,  1,  1,  1,  1,  1, 11,  1,  1,  4, 43])"
      ]
     },
     "execution_count": 48,
     "metadata": {},
     "output_type": "execute_result"
    }
   ],
   "source": [
    "degree"
   ]
  },
  {
   "cell_type": "code",
   "execution_count": 45,
   "id": "restricted-horror",
   "metadata": {},
   "outputs": [],
   "source": [
    "edges2 = {}\n",
    "\n",
    "degree = (np.random.power(0.1, 100) * 50).astype(int) + 1\n",
    "\n",
    "for i in range(100):\n",
    "    pois = list(np.random.choice(50, degree[i]))\n",
    "    for j in pois:\n",
    "        if j not in edges2:\n",
    "            edges2[j] = {}\n",
    "        edges2[j][i] = np.random.poisson(1) + 1"
   ]
  },
  {
   "cell_type": "code",
   "execution_count": 46,
   "id": "challenging-cruise",
   "metadata": {},
   "outputs": [],
   "source": [
    "redges2 = {}\n",
    "\n",
    "for j in edges2:\n",
    "    for i in edges2[j]:\n",
    "        if i not in redges2:\n",
    "            redges2[i] = {}\n",
    "        redges2[i][j] = edges2[j][i]"
   ]
  },
  {
   "cell_type": "code",
   "execution_count": 52,
   "id": "reliable-edition",
   "metadata": {},
   "outputs": [],
   "source": [
    "unvax_1 = np.array([int((i // 25) % 2 == 0) * 0.6 + 0.2 for i in range(50)])\n",
    "unvax_2 = np.array([0.6 - degree[i]/50*0.5 for i in range(50)]) # np.array([int((i // 100) % 2 == 0) * 0.6 + 0.2 for i in range(10000)])\n"
   ]
  },
  {
   "cell_type": "code",
   "execution_count": 53,
   "id": "orange-liberia",
   "metadata": {},
   "outputs": [],
   "source": [
    "for lamb in [0,  0.5, 1.0]:\n",
    "\n",
    "    redges = {}\n",
    "\n",
    "    for i in range(50):\n",
    "        redges[i] = {}\n",
    "        for j in redges1[i]:\n",
    "            if np.random.random() < 1 - lamb:\n",
    "                redges[i][j] = redges1[i][j]\n",
    "        for j in redges2[i]:\n",
    "            if np.random.random() < lamb:\n",
    "                redges[i][j] = redges2[i][j]\n",
    "\n",
    "    edges = {}\n",
    "\n",
    "    for i in redges:\n",
    "        for j in redges[i]:\n",
    "            if j not in edges:\n",
    "                edges[j] = {}\n",
    "            edges[j][i] = redges[i][j]\n",
    "\n",
    "    from scipy.sparse import csr_matrix\n",
    "    \n",
    "    unvax = unvax_1 * (1 - lamb) + unvax_2 * lamb\n",
    "\n",
    "    row = [j for j in edges for i in edges[j]]\n",
    "    col = [i for j in edges for i in edges[j]]\n",
    "    data = [edges[j][i] for j in edges for i in edges[j]]\n",
    "\n",
    "    bipartite = csr_matrix((data, (row, col)), shape=(50, 50))\n",
    "    prod = bipartite.T @ bipartite\n",
    "    prod = np.array(prod.todense())\n",
    "    \n",
    "    fo = open('node_synthetic_%f.csv' % (lamb), 'w')\n",
    "\n",
    "    fo.write('Id,Unvax,centrality\\n')\n",
    "    for i in range(50):\n",
    "        fo.write('%d,%f,%f\\n' % (i, unvax[i], np.sum(prod[i])))\n",
    "\n",
    "    fo.close()\n",
    "    \n",
    "    fo = open('edge_synthetic_%f.csv' % (lamb), 'w')\n",
    "\n",
    "    fo.write('Source,Target,Weight\\n')\n",
    "    for i in range(50):\n",
    "        for j in range(50):\n",
    "            if prod[i][j] and i != j:\n",
    "                fo.write('%d,%d,%f\\n' % (i, j, prod[i, j]))\n",
    "\n",
    "    fo.close()\n",
    "    "
   ]
  },
  {
   "cell_type": "code",
   "execution_count": 2,
   "id": "tired-signature",
   "metadata": {},
   "outputs": [],
   "source": [
    "dict_param = np.load('../Aug-01/dict_param_synthetic_0.500000.npy', allow_pickle=True).item()"
   ]
  },
  {
   "cell_type": "code",
   "execution_count": 4,
   "id": "occupied-piano",
   "metadata": {},
   "outputs": [],
   "source": [
    "bipartite = dict_param['poi_cbg_visits_list'][0]"
   ]
  },
  {
   "cell_type": "code",
   "execution_count": 10,
   "id": "supported-nomination",
   "metadata": {},
   "outputs": [],
   "source": [
    "prod = bipartite.T @ bipartite"
   ]
  },
  {
   "cell_type": "code",
   "execution_count": 11,
   "id": "photographic-smile",
   "metadata": {},
   "outputs": [
    {
     "data": {
      "text/plain": [
       "<10000x10000 sparse matrix of type '<class 'numpy.int64'>'\n",
       "\twith 6536150 stored elements in Compressed Sparse Column format>"
      ]
     },
     "execution_count": 11,
     "metadata": {},
     "output_type": "execute_result"
    }
   ],
   "source": [
    "prod"
   ]
  },
  {
   "cell_type": "code",
   "execution_count": 12,
   "id": "other-plate",
   "metadata": {},
   "outputs": [],
   "source": [
    "prod = np.array(prod.todense())"
   ]
  },
  {
   "cell_type": "code",
   "execution_count": 21,
   "id": "cutting-consideration",
   "metadata": {},
   "outputs": [],
   "source": [
    "prod = prod[:200, :200]"
   ]
  },
  {
   "cell_type": "code",
   "execution_count": 35,
   "id": "closed-raise",
   "metadata": {},
   "outputs": [],
   "source": [
    "fo = open('node_synthetic.csv', 'w')\n",
    "\n",
    "fo.write('Id,Unvax,centrality\\n')\n",
    "for i in range(200):\n",
    "    fo.write('%d,%f,%f\\n' % (i, dict_param['unvax'][i], np.sum(prod[i])))\n",
    "\n",
    "fo.close()"
   ]
  },
  {
   "cell_type": "code",
   "execution_count": 33,
   "id": "transparent-member",
   "metadata": {},
   "outputs": [],
   "source": [
    "fo = open('edge_synthetic.csv', 'w')\n",
    "\n",
    "fo.write('Source,Target,Weight\\n')\n",
    "for i in range(200):\n",
    "    for j in range(200):\n",
    "        if prod[i][j] and i != j:\n",
    "            fo.write('%d,%d,%f\\n' % (i, j, prod[i, j]))\n",
    "\n",
    "fo.close()"
   ]
  }
 ],
 "metadata": {
  "kernelspec": {
   "display_name": "Python 3",
   "language": "python",
   "name": "python3"
  },
  "language_info": {
   "codemirror_mode": {
    "name": "ipython",
    "version": 3
   },
   "file_extension": ".py",
   "mimetype": "text/x-python",
   "name": "python",
   "nbconvert_exporter": "python",
   "pygments_lexer": "ipython3",
   "version": "3.8.3"
  }
 },
 "nbformat": 4,
 "nbformat_minor": 5
}
